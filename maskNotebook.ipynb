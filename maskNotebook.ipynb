{
  "nbformat": 4,
  "nbformat_minor": 0,
  "metadata": {
    "colab": {
      "name": "Copy of Mask.ipynb",
      "provenance": []
    },
    "kernelspec": {
      "name": "python3",
      "display_name": "Python 3"
    },
    "accelerator": "GPU"
  },
  "cells": [
    {
      "cell_type": "code",
      "metadata": {
        "id": "Uy7kMwUt_Ej7"
      },
      "source": [
        "from tensorflow.keras.applications import MobileNetV2\n",
        "import cv2\n",
        "import re\n",
        "from os import walk\n",
        "import pandas as pd\n",
        "import imutils\n",
        "import numpy as np\n",
        "import os\n",
        "import random\n",
        "import shutil\n",
        "\n",
        "import keras\n",
        "from tensorflow.keras.optimizers import Adam, RMSprop, Nadam\n",
        "from keras.applications.vgg16 import VGG16\n",
        "from keras.models import Sequential\n",
        "from keras.layers import Dense, Dropout, Activation, Flatten\n",
        "from keras.layers import Conv2D, MaxPooling2D, ZeroPadding2D\n",
        "#from tensorflow.keras.layers.normalization import BatchNormalization\n",
        "from keras.models import Model\n",
        "from scipy.spatial.distance import cosine\n",
        "from keras_preprocessing.image import ImageDataGenerator\n",
        "from keras.callbacks import EarlyStopping, ModelCheckpoint"
      ],
      "execution_count": null,
      "outputs": []
    },
    {
      "cell_type": "markdown",
      "metadata": {
        "id": "R_X5RmOT-sXT"
      },
      "source": [
        "# Data Cleaning"
      ]
    },
    {
      "cell_type": "code",
      "metadata": {
        "id": "l1Kn_MR6-uWD",
        "colab": {
          "base_uri": "https://localhost:8080/"
        },
        "outputId": "a53b24d0-888a-47dd-ef86-8340cc8034e1"
      },
      "source": [
        "!kaggle datasets download -d wobotintelligence/face-mask-detection-dataset"
      ],
      "execution_count": null,
      "outputs": [
        {
          "output_type": "stream",
          "text": [
            "Warning: Your Kaggle API key is readable by other users on this system! To fix this, you can run 'chmod 600 /root/.kaggle/kaggle.json'\n",
            "Downloading face-mask-detection-dataset.zip to /content\n",
            " 99% 2.48G/2.50G [00:37<00:00, 58.7MB/s]\n",
            "100% 2.50G/2.50G [00:37<00:00, 71.8MB/s]\n"
          ],
          "name": "stdout"
        }
      ]
    },
    {
      "cell_type": "code",
      "metadata": {
        "id": "m6gKnoDIKSTS",
        "colab": {
          "base_uri": "https://localhost:8080/"
        },
        "outputId": "8cc0797f-c839-4d50-8cae-54089473933e"
      },
      "source": [
        "!kaggle datasets download -d ashishjangra27/face-mask-12k-images-dataset"
      ],
      "execution_count": null,
      "outputs": [
        {
          "output_type": "stream",
          "text": [
            "Warning: Your Kaggle API key is readable by other users on this system! To fix this, you can run 'chmod 600 /root/.kaggle/kaggle.json'\n",
            "Downloading face-mask-12k-images-dataset.zip to /content\n",
            " 96% 318M/330M [00:03<00:00, 101MB/s] \n",
            "100% 330M/330M [00:03<00:00, 97.9MB/s]\n"
          ],
          "name": "stdout"
        }
      ]
    },
    {
      "cell_type": "code",
      "metadata": {
        "id": "JO6kKwhkLEJI"
      },
      "source": [
        "!unzip -q face-mask-12k-images-dataset"
      ],
      "execution_count": null,
      "outputs": []
    },
    {
      "cell_type": "code",
      "metadata": {
        "id": "0uZ-yk5PLj9D"
      },
      "source": [
        "uses = ['Train', 'Test']\n",
        "for use in uses:\n",
        "  groups = ['WithMask', 'WithoutMask']\n",
        "  for group in groups:\n",
        "    a = []\n",
        "    for (dirpath, dirnames, filenames) in walk('/content/Face Mask Dataset/{}/{}'.format(use, group)):\n",
        "        a.extend(filenames)\n",
        "        break\n",
        "    for name in a:\n",
        "      os.rename('/content/Face Mask Dataset/{}/{}/{}'.format(use, group, name), '/content/Face Mask Dataset/{}/{}/data2_{}'.format(use, group, name))\n"
      ],
      "execution_count": null,
      "outputs": []
    },
    {
      "cell_type": "code",
      "metadata": {
        "id": "qsezkyuc_RLz"
      },
      "source": [
        "!unzip -q /content/face-mask-detection-dataset.zip -d data"
      ],
      "execution_count": null,
      "outputs": []
    },
    {
      "cell_type": "code",
      "metadata": {
        "id": "RurkmW3wAThN",
        "colab": {
          "base_uri": "https://localhost:8080/",
          "height": 359
        },
        "outputId": "57fc5810-1256-4664-9d3f-3dcf97168187"
      },
      "source": [
        "mask_pos = ['face_with_mask']\n",
        "using = ['face_with_mask', 'face_no_mask', 'face_with_mask_incorrect']\n",
        "df = pd.read_csv('/content/data/train.csv')\n",
        "df = df.loc[(df['classname'].isin(using))]\n",
        "\n",
        "df['mask'] = df['classname'].map(lambda x: x in mask_pos)\n",
        "df['temp'] = df['x2']\n",
        "df['x2']= df['y1']\n",
        "df['y1'] = df['temp']\n",
        "del df['temp']\n",
        "\n",
        "df['pred_x1'], df['pred_y1'], df['pred_x2'], df['pred_y2'] = 0, 0, 0, 0\n",
        "df.head(10)"
      ],
      "execution_count": null,
      "outputs": [
        {
          "output_type": "execute_result",
          "data": {
            "text/html": [
              "<div>\n",
              "<style scoped>\n",
              "    .dataframe tbody tr th:only-of-type {\n",
              "        vertical-align: middle;\n",
              "    }\n",
              "\n",
              "    .dataframe tbody tr th {\n",
              "        vertical-align: top;\n",
              "    }\n",
              "\n",
              "    .dataframe thead th {\n",
              "        text-align: right;\n",
              "    }\n",
              "</style>\n",
              "<table border=\"1\" class=\"dataframe\">\n",
              "  <thead>\n",
              "    <tr style=\"text-align: right;\">\n",
              "      <th></th>\n",
              "      <th>name</th>\n",
              "      <th>x1</th>\n",
              "      <th>x2</th>\n",
              "      <th>y1</th>\n",
              "      <th>y2</th>\n",
              "      <th>classname</th>\n",
              "      <th>mask</th>\n",
              "      <th>pred_x1</th>\n",
              "      <th>pred_y1</th>\n",
              "      <th>pred_x2</th>\n",
              "      <th>pred_y2</th>\n",
              "    </tr>\n",
              "  </thead>\n",
              "  <tbody>\n",
              "    <tr>\n",
              "      <th>0</th>\n",
              "      <td>2756.png</td>\n",
              "      <td>69</td>\n",
              "      <td>294</td>\n",
              "      <td>126</td>\n",
              "      <td>392</td>\n",
              "      <td>face_with_mask</td>\n",
              "      <td>True</td>\n",
              "      <td>0</td>\n",
              "      <td>0</td>\n",
              "      <td>0</td>\n",
              "      <td>0</td>\n",
              "    </tr>\n",
              "    <tr>\n",
              "      <th>1</th>\n",
              "      <td>2756.png</td>\n",
              "      <td>505</td>\n",
              "      <td>723</td>\n",
              "      <td>10</td>\n",
              "      <td>283</td>\n",
              "      <td>face_with_mask</td>\n",
              "      <td>True</td>\n",
              "      <td>0</td>\n",
              "      <td>0</td>\n",
              "      <td>0</td>\n",
              "      <td>0</td>\n",
              "    </tr>\n",
              "    <tr>\n",
              "      <th>4</th>\n",
              "      <td>6098.jpg</td>\n",
              "      <td>360</td>\n",
              "      <td>728</td>\n",
              "      <td>85</td>\n",
              "      <td>653</td>\n",
              "      <td>face_no_mask</td>\n",
              "      <td>False</td>\n",
              "      <td>0</td>\n",
              "      <td>0</td>\n",
              "      <td>0</td>\n",
              "      <td>0</td>\n",
              "    </tr>\n",
              "    <tr>\n",
              "      <th>5</th>\n",
              "      <td>6427.png</td>\n",
              "      <td>218</td>\n",
              "      <td>577</td>\n",
              "      <td>98</td>\n",
              "      <td>580</td>\n",
              "      <td>face_with_mask_incorrect</td>\n",
              "      <td>False</td>\n",
              "      <td>0</td>\n",
              "      <td>0</td>\n",
              "      <td>0</td>\n",
              "      <td>0</td>\n",
              "    </tr>\n",
              "    <tr>\n",
              "      <th>7</th>\n",
              "      <td>4591.png</td>\n",
              "      <td>239</td>\n",
              "      <td>522</td>\n",
              "      <td>9</td>\n",
              "      <td>342</td>\n",
              "      <td>face_with_mask</td>\n",
              "      <td>True</td>\n",
              "      <td>0</td>\n",
              "      <td>0</td>\n",
              "      <td>0</td>\n",
              "      <td>0</td>\n",
              "    </tr>\n",
              "    <tr>\n",
              "      <th>11</th>\n",
              "      <td>5525.jpg</td>\n",
              "      <td>262</td>\n",
              "      <td>484</td>\n",
              "      <td>18</td>\n",
              "      <td>319</td>\n",
              "      <td>face_no_mask</td>\n",
              "      <td>False</td>\n",
              "      <td>0</td>\n",
              "      <td>0</td>\n",
              "      <td>0</td>\n",
              "      <td>0</td>\n",
              "    </tr>\n",
              "    <tr>\n",
              "      <th>12</th>\n",
              "      <td>5525.jpg</td>\n",
              "      <td>49</td>\n",
              "      <td>191</td>\n",
              "      <td>58</td>\n",
              "      <td>247</td>\n",
              "      <td>face_no_mask</td>\n",
              "      <td>False</td>\n",
              "      <td>0</td>\n",
              "      <td>0</td>\n",
              "      <td>0</td>\n",
              "      <td>0</td>\n",
              "    </tr>\n",
              "    <tr>\n",
              "      <th>13</th>\n",
              "      <td>3911.png</td>\n",
              "      <td>49</td>\n",
              "      <td>389</td>\n",
              "      <td>26</td>\n",
              "      <td>476</td>\n",
              "      <td>face_no_mask</td>\n",
              "      <td>False</td>\n",
              "      <td>0</td>\n",
              "      <td>0</td>\n",
              "      <td>0</td>\n",
              "      <td>0</td>\n",
              "    </tr>\n",
              "    <tr>\n",
              "      <th>16</th>\n",
              "      <td>4287.png</td>\n",
              "      <td>80</td>\n",
              "      <td>629</td>\n",
              "      <td>0</td>\n",
              "      <td>599</td>\n",
              "      <td>face_with_mask</td>\n",
              "      <td>True</td>\n",
              "      <td>0</td>\n",
              "      <td>0</td>\n",
              "      <td>0</td>\n",
              "      <td>0</td>\n",
              "    </tr>\n",
              "    <tr>\n",
              "      <th>17</th>\n",
              "      <td>4893.png</td>\n",
              "      <td>179</td>\n",
              "      <td>664</td>\n",
              "      <td>8</td>\n",
              "      <td>599</td>\n",
              "      <td>face_with_mask</td>\n",
              "      <td>True</td>\n",
              "      <td>0</td>\n",
              "      <td>0</td>\n",
              "      <td>0</td>\n",
              "      <td>0</td>\n",
              "    </tr>\n",
              "  </tbody>\n",
              "</table>\n",
              "</div>"
            ],
            "text/plain": [
              "        name   x1   x2   y1   y2  ...   mask  pred_x1  pred_y1  pred_x2  pred_y2\n",
              "0   2756.png   69  294  126  392  ...   True        0        0        0        0\n",
              "1   2756.png  505  723   10  283  ...   True        0        0        0        0\n",
              "4   6098.jpg  360  728   85  653  ...  False        0        0        0        0\n",
              "5   6427.png  218  577   98  580  ...  False        0        0        0        0\n",
              "7   4591.png  239  522    9  342  ...   True        0        0        0        0\n",
              "11  5525.jpg  262  484   18  319  ...  False        0        0        0        0\n",
              "12  5525.jpg   49  191   58  247  ...  False        0        0        0        0\n",
              "13  3911.png   49  389   26  476  ...  False        0        0        0        0\n",
              "16  4287.png   80  629    0  599  ...   True        0        0        0        0\n",
              "17  4893.png  179  664    8  599  ...   True        0        0        0        0\n",
              "\n",
              "[10 rows x 11 columns]"
            ]
          },
          "metadata": {
            "tags": []
          },
          "execution_count": 8
        }
      ]
    },
    {
      "cell_type": "code",
      "metadata": {
        "id": "CDSIhkKqm3O-",
        "colab": {
          "base_uri": "https://localhost:8080/"
        },
        "outputId": "aa33a377-2387-41b3-86f6-494e4e37b0f2"
      },
      "source": [
        "!wget -N https://raw.githubusercontent.com/opencv/opencv/master/samples/dnn/face_detector/deploy.prototxt\n",
        "!wget -N https://raw.githubusercontent.com/opencv/opencv_3rdparty/dnn_samples_face_detector_20170830/res10_300x300_ssd_iter_140000.caffemodel"
      ],
      "execution_count": null,
      "outputs": [
        {
          "output_type": "stream",
          "text": [
            "--2021-03-13 21:04:48--  https://raw.githubusercontent.com/opencv/opencv/master/samples/dnn/face_detector/deploy.prototxt\n",
            "Resolving raw.githubusercontent.com (raw.githubusercontent.com)... 185.199.108.133, 185.199.109.133, 185.199.110.133, ...\n",
            "Connecting to raw.githubusercontent.com (raw.githubusercontent.com)|185.199.108.133|:443... connected.\n",
            "HTTP request sent, awaiting response... 200 OK\n",
            "Length: 28104 (27K) [text/plain]\n",
            "Saving to: ‘deploy.prototxt’\n",
            "\n",
            "\rdeploy.prototxt       0%[                    ]       0  --.-KB/s               \rdeploy.prototxt     100%[===================>]  27.45K  --.-KB/s    in 0s      \n",
            "\n",
            "Last-modified header missing -- time-stamps turned off.\n",
            "2021-03-13 21:04:49 (145 MB/s) - ‘deploy.prototxt’ saved [28104/28104]\n",
            "\n",
            "--2021-03-13 21:04:49--  https://raw.githubusercontent.com/opencv/opencv_3rdparty/dnn_samples_face_detector_20170830/res10_300x300_ssd_iter_140000.caffemodel\n",
            "Resolving raw.githubusercontent.com (raw.githubusercontent.com)... 185.199.108.133, 185.199.109.133, 185.199.110.133, ...\n",
            "Connecting to raw.githubusercontent.com (raw.githubusercontent.com)|185.199.108.133|:443... connected.\n",
            "HTTP request sent, awaiting response... 200 OK\n",
            "Length: 10666211 (10M) [application/octet-stream]\n",
            "Saving to: ‘res10_300x300_ssd_iter_140000.caffemodel’\n",
            "\n",
            "res10_300x300_ssd_i 100%[===================>]  10.17M  --.-KB/s    in 0.09s   \n",
            "\n",
            "Last-modified header missing -- time-stamps turned off.\n",
            "2021-03-13 21:04:49 (115 MB/s) - ‘res10_300x300_ssd_iter_140000.caffemodel’ saved [10666211/10666211]\n",
            "\n"
          ],
          "name": "stdout"
        }
      ]
    },
    {
      "cell_type": "code",
      "metadata": {
        "id": "kkaU_8MKwyQL"
      },
      "source": [
        "prototxt = 'deploy.prototxt'\n",
        "model_path = 'res10_300x300_ssd_iter_140000.caffemodel'\n",
        "net = cv2.dnn.readNetFromCaffe(prototxt, model_path)\n",
        "def get_face(image):\n",
        "  (h, w) = image.shape[:2]\n",
        "\n",
        "  blob = cv2.dnn.blobFromImage(cv2.resize(image, (300, 300)), 1.0, (300, 300), (104.0, 177.0, 123.0))\n",
        "  net.setInput(blob)\n",
        "  detections = net.forward()\n",
        "\n",
        "  faces = np.zeros((detections.shape[2], 4))\n",
        "  for i in range(0, detections.shape[2]):\n",
        "    # extract the confidence (i.e., probability) associated with the prediction\n",
        "    confidence = detections[0, 0, i, 2]\n",
        "\n",
        "    if confidence > 0.3:\n",
        "      box = detections[0, 0, i, 3:7] * np.array([w, h, w, h])\n",
        "      faces[i] = box\n",
        "  return faces\n",
        "\n",
        "def compare_faces(dbox, pbox, size):\n",
        "  darea = abs((1 + dbox[2] - dbox[0])*(1 + dbox[3]-dbox[1]))\n",
        "  parea = abs((1 + pbox[2] - pbox[0])*(1 + pbox[3]-pbox[1]))\n",
        "#  print(sum(abs(dbox-pbox)), darea*.008)\n",
        "  if sum(abs(dbox-pbox)) <= .008*darea and (parea * .7 >= darea or darea * .7 >= parea):\n",
        "    return True\n",
        "  pbox = np.array([pbox[2], pbox[3], pbox[0], pbox[1]])\n",
        "  if sum(abs(dbox-pbox)) <= .008*darea:\n",
        "    return True\n",
        "  return False"
      ],
      "execution_count": null,
      "outputs": []
    },
    {
      "cell_type": "code",
      "metadata": {
        "id": "I6L6fNiAo5Cl",
        "colab": {
          "base_uri": "https://localhost:8080/"
        },
        "outputId": "d870044d-0897-4ae7-db9b-6b26194c6fcf"
      },
      "source": [
        "\n",
        "all_names = []\n",
        "for (dirpath, dirnames, filenames) in walk('/content/data/Medical mask/Medical mask/Medical Mask/images'):\n",
        "    all_names.extend(filenames)\n",
        "    break\n",
        "print(len(all_names))\n",
        "print(all_names[:10])"
      ],
      "execution_count": null,
      "outputs": [
        {
          "output_type": "stream",
          "text": [
            "6024\n",
            "['6238.jpg', '5266.jpg', '4818.png', '0793.jpg', '4282.png', '2781.png', '3912.png', '5205.jpg', '5184.jpg', '0291.jpg']\n"
          ],
          "name": "stdout"
        }
      ]
    },
    {
      "cell_type": "code",
      "metadata": {
        "id": "sce-Qk_Zwnr4"
      },
      "source": [
        "j = 0\n",
        "#all_names = ['4591.png', '4287.png', '5525.jpg', '5010.jpg']\n",
        "for image_name in all_names:\n",
        "#  print('\\n')\n",
        "  j+=1\n",
        "  if (j%50 == 0):\n",
        "    print(j)\n",
        "  image = cv2.imread('/content/data/Medical mask/Medical mask/Medical Mask/images/{}'.format(image_name))\n",
        "  pred_faces = get_face(image)\n",
        "  pred_faces = [x for x in pred_faces if np.sum(x) != 0]\n",
        "  idx = df.index[(df['name'] == image_name)].to_numpy()\n",
        "  for index in idx:\n",
        "    dataset_box = [df.loc[index]['x1'], df.loc[index]['y1'], df.loc[index]['x2'], df.loc[index]['y2']]\n",
        "    for pred_box in pred_faces:\n",
        "      if compare_faces(dataset_box, pred_box, image.shape[0]*image.shape[1]):\n",
        "#        print(pred_box)\n",
        "#        cv2.rectangle(image, (dataset_box[0], dataset_box[1]), (dataset_box[2], dataset_box[3]), (255, 0, 0), 2)\n",
        "#        cv2.rectangle(image, (int(pred_box[0]), int(pred_box[1])), (int(pred_box[2]), int(pred_box[3])), (0, 255, 0), 2)\n",
        "#        cv2.imwrite('img4.png', image)\n",
        "        df['pred_x1'][index], df['pred_y1'][index], df['pred_x2'][index], df['pred_y2'][index] = pred_box\n"
      ],
      "execution_count": null,
      "outputs": []
    },
    {
      "cell_type": "code",
      "metadata": {
        "id": "23VIc9-uoIl8",
        "colab": {
          "base_uri": "https://localhost:8080/",
          "height": 195
        },
        "outputId": "77f0b803-8bb5-4478-dba1-f91a6dc195d6"
      },
      "source": [
        "df.head()"
      ],
      "execution_count": null,
      "outputs": [
        {
          "output_type": "execute_result",
          "data": {
            "text/html": [
              "<div>\n",
              "<style scoped>\n",
              "    .dataframe tbody tr th:only-of-type {\n",
              "        vertical-align: middle;\n",
              "    }\n",
              "\n",
              "    .dataframe tbody tr th {\n",
              "        vertical-align: top;\n",
              "    }\n",
              "\n",
              "    .dataframe thead th {\n",
              "        text-align: right;\n",
              "    }\n",
              "</style>\n",
              "<table border=\"1\" class=\"dataframe\">\n",
              "  <thead>\n",
              "    <tr style=\"text-align: right;\">\n",
              "      <th></th>\n",
              "      <th>name</th>\n",
              "      <th>x1</th>\n",
              "      <th>x2</th>\n",
              "      <th>y1</th>\n",
              "      <th>y2</th>\n",
              "      <th>classname</th>\n",
              "      <th>mask</th>\n",
              "      <th>pred_x1</th>\n",
              "      <th>pred_y1</th>\n",
              "      <th>pred_x2</th>\n",
              "      <th>pred_y2</th>\n",
              "    </tr>\n",
              "  </thead>\n",
              "  <tbody>\n",
              "    <tr>\n",
              "      <th>0</th>\n",
              "      <td>2756.png</td>\n",
              "      <td>69</td>\n",
              "      <td>294</td>\n",
              "      <td>126</td>\n",
              "      <td>392</td>\n",
              "      <td>face_with_mask</td>\n",
              "      <td>True</td>\n",
              "      <td>90</td>\n",
              "      <td>161</td>\n",
              "      <td>273</td>\n",
              "      <td>384</td>\n",
              "    </tr>\n",
              "    <tr>\n",
              "      <th>1</th>\n",
              "      <td>2756.png</td>\n",
              "      <td>505</td>\n",
              "      <td>723</td>\n",
              "      <td>10</td>\n",
              "      <td>283</td>\n",
              "      <td>face_with_mask</td>\n",
              "      <td>True</td>\n",
              "      <td>0</td>\n",
              "      <td>0</td>\n",
              "      <td>0</td>\n",
              "      <td>0</td>\n",
              "    </tr>\n",
              "    <tr>\n",
              "      <th>4</th>\n",
              "      <td>6098.jpg</td>\n",
              "      <td>360</td>\n",
              "      <td>728</td>\n",
              "      <td>85</td>\n",
              "      <td>653</td>\n",
              "      <td>face_no_mask</td>\n",
              "      <td>False</td>\n",
              "      <td>0</td>\n",
              "      <td>0</td>\n",
              "      <td>0</td>\n",
              "      <td>0</td>\n",
              "    </tr>\n",
              "    <tr>\n",
              "      <th>5</th>\n",
              "      <td>6427.png</td>\n",
              "      <td>218</td>\n",
              "      <td>577</td>\n",
              "      <td>98</td>\n",
              "      <td>580</td>\n",
              "      <td>face_with_mask_incorrect</td>\n",
              "      <td>False</td>\n",
              "      <td>221</td>\n",
              "      <td>141</td>\n",
              "      <td>535</td>\n",
              "      <td>520</td>\n",
              "    </tr>\n",
              "    <tr>\n",
              "      <th>7</th>\n",
              "      <td>4591.png</td>\n",
              "      <td>239</td>\n",
              "      <td>522</td>\n",
              "      <td>9</td>\n",
              "      <td>342</td>\n",
              "      <td>face_with_mask</td>\n",
              "      <td>True</td>\n",
              "      <td>0</td>\n",
              "      <td>0</td>\n",
              "      <td>0</td>\n",
              "      <td>0</td>\n",
              "    </tr>\n",
              "  </tbody>\n",
              "</table>\n",
              "</div>"
            ],
            "text/plain": [
              "       name   x1   x2   y1   y2  ...   mask  pred_x1  pred_y1  pred_x2  pred_y2\n",
              "0  2756.png   69  294  126  392  ...   True       90      161      273      384\n",
              "1  2756.png  505  723   10  283  ...   True        0        0        0        0\n",
              "4  6098.jpg  360  728   85  653  ...  False        0        0        0        0\n",
              "5  6427.png  218  577   98  580  ...  False      221      141      535      520\n",
              "7  4591.png  239  522    9  342  ...   True        0        0        0        0\n",
              "\n",
              "[5 rows x 11 columns]"
            ]
          },
          "metadata": {
            "tags": []
          },
          "execution_count": 13
        }
      ]
    },
    {
      "cell_type": "code",
      "metadata": {
        "id": "Q_GFLqlP-W_S"
      },
      "source": [
        "#OPEN CV\n",
        "try:\n",
        "  os.makedirs('/content/data2/train/mask')\n",
        "  os.makedirs('/content/data2/train/no_mask')\n",
        "  os.makedirs('/content/data2/test/mask')\n",
        "  os.makedirs('/content/data2/test/no_mask')\n",
        "except: pass\n",
        "\n",
        "for index, row in df.iterrows():\n",
        "   image = cv2.imread('/content/data/Medical mask/Medical mask/Medical Mask/images/{}'.format(row['name']))\n",
        "   if (row['pred_x1'] + row['pred_y1'] + row['pred_x2'] + row['pred_y2'] != 0):\n",
        "     image = image[row['pred_y1']:row['pred_y2'], row['pred_x1']:row['pred_x2']]\n",
        "     if row['mask']:\n",
        "       cv2.imwrite('/content/data2/train/mask/{}'.format(row['name']), image)\n",
        "     else:\n",
        "       cv2.imwrite('/content/data2/train/no_mask/{}'.format(row['name']), image)       "
      ],
      "execution_count": null,
      "outputs": []
    },
    {
      "cell_type": "code",
      "metadata": {
        "colab": {
          "base_uri": "https://localhost:8080/"
        },
        "id": "k3xk_5dpaUES",
        "outputId": "2807e59e-59f8-472b-8f78-7b181102ddf4"
      },
      "source": [
        "#ANNOTATED\n",
        "\n",
        "try:\n",
        "  os.makedirs('/content/data2/train/mask')\n",
        "  os.makedirs('/content/data2/train/no_mask')\n",
        "  os.makedirs('/content/data2/test/mask')\n",
        "  os.makedirs('/content/data2/test/no_mask')\n",
        "except: pass\n",
        "\n",
        "for index, row in df.iterrows():\n",
        "  image = cv2.imread('/content/data/Medical mask/Medical mask/Medical Mask/images/{}'.format(row['name']))\n",
        "  image = image[row['y1']:row['y2'], row['x1']:row['x2']]\n",
        "  try:\n",
        "    if row['mask']:\n",
        "      cv2.imwrite('/content/data2/train/mask/{}'.format(row['name']), image)\n",
        "    else:\n",
        "      cv2.imwrite('/content/data2/train/no_mask/{}'.format(row['name']), image)\n",
        "  except:\n",
        "    print(row)"
      ],
      "execution_count": null,
      "outputs": [
        {
          "output_type": "stream",
          "text": [
            "name                         1861.jpg\n",
            "x1                                582\n",
            "x2                                582\n",
            "y1                                126\n",
            "y2                                126\n",
            "classname    face_with_mask_incorrect\n",
            "mask                            False\n",
            "pred_x1                             0\n",
            "pred_y1                             0\n",
            "pred_x2                             0\n",
            "pred_y2                             0\n",
            "Name: 8131, dtype: object\n"
          ],
          "name": "stdout"
        }
      ]
    },
    {
      "cell_type": "code",
      "metadata": {
        "id": "gwPe4fWVVGEV"
      },
      "source": [
        "a = []\n",
        "for (dirpath, dirnames, filenames) in walk('/content/data2/train/mask'):\n",
        "    a.extend(filenames)\n",
        "    break\n",
        "random.shuffle(a)\n",
        "\n",
        "for x in a[:len(a)//5]:\n",
        "  shutil.move('/content/data2/train/mask/{}'.format(x), '/content/data2/test/mask')\n",
        "\n",
        "a = []\n",
        "for (dirpath, dirnames, filenames) in walk('/content/data2/train/no_mask'):\n",
        "    a.extend(filenames)\n",
        "    break\n",
        "random.shuffle(a)\n",
        "\n",
        "for x in a[:len(a)//5]:\n",
        "  shutil.move('/content/data2/train/no_mask/{}'.format(x), '/content/data2/test/no_mask')"
      ],
      "execution_count": null,
      "outputs": []
    },
    {
      "cell_type": "markdown",
      "metadata": {
        "id": "NJwyNaNoBirq"
      },
      "source": [
        "# Training"
      ]
    },
    {
      "cell_type": "code",
      "metadata": {
        "id": "shXbb-7DB3NZ",
        "colab": {
          "base_uri": "https://localhost:8080/"
        },
        "outputId": "d4d7e9de-0ea2-4dd3-99e9-d1c859730903"
      },
      "source": [
        "a = []\n",
        "for (dirpath, dirnames, filenames) in walk('/content/data2/train'):\n",
        "    a.extend(dirnames)\n",
        "    break\n",
        "print(a)\n",
        "\n",
        "a = []\n",
        "for (dirpath, dirnames, filenames) in walk('/content/data2/test'):\n",
        "    a.extend(dirnames)\n",
        "    break\n",
        "print(a)"
      ],
      "execution_count": null,
      "outputs": [
        {
          "output_type": "stream",
          "text": [
            "['no_mask', 'mask']\n",
            "['no_mask', 'mask']\n"
          ],
          "name": "stdout"
        }
      ]
    },
    {
      "cell_type": "code",
      "metadata": {
        "id": "IHGizM72CDr_"
      },
      "source": [
        "os.rmdir('/content/data2/train/.ipynb_checkpoints')\n",
        "os.rmdir('/content/data2/test/.ipynb_checkpoints')"
      ],
      "execution_count": null,
      "outputs": []
    },
    {
      "cell_type": "code",
      "metadata": {
        "id": "wlkfQiI1BG0y",
        "colab": {
          "base_uri": "https://localhost:8080/"
        },
        "outputId": "275c5057-ee51-4d72-d990-af2bf098699d"
      },
      "source": [
        "train_data_dir = '/content/data2/train'\n",
        "validation_data_dir = '/content/data2/test'\n",
        "\n",
        "# Let's use some data augmentaiton \n",
        "train_datagen = ImageDataGenerator(\n",
        "#      rescale=1./255,\n",
        "      rotation_range=45,\n",
        "      width_shift_range=0.2,\n",
        "      height_shift_range=0.2,\n",
        "      horizontal_flip=True,\n",
        "      fill_mode='nearest')\n",
        "\n",
        "validation_datagen = ImageDataGenerator()#rescale=1./255)\n",
        "\n",
        "# Set the Batch Size according to your system.\n",
        "train_batchsize = 128\n",
        "val_batchsize = 32\n",
        "\n",
        "train_generator = train_datagen.flow_from_directory(\n",
        "        train_data_dir,\n",
        "        target_size=(224, 224),\n",
        "        batch_size=train_batchsize,\n",
        "        class_mode='categorical')\n",
        " \n",
        "validation_generator = validation_datagen.flow_from_directory(\n",
        "        validation_data_dir,\n",
        "        target_size=(224, 224),\n",
        "        batch_size=val_batchsize,\n",
        "        class_mode='categorical',\n",
        "        shuffle=False)"
      ],
      "execution_count": null,
      "outputs": [
        {
          "output_type": "stream",
          "text": [
            "Found 2964 images belonging to 2 classes.\n",
            "Found 740 images belonging to 2 classes.\n"
          ],
          "name": "stdout"
        }
      ]
    },
    {
      "cell_type": "code",
      "metadata": {
        "id": "8oJTokeJCHwD",
        "colab": {
          "base_uri": "https://localhost:8080/"
        },
        "outputId": "7a35c418-e103-43a8-baf1-744c8150eb18"
      },
      "source": [
        "model = Sequential()\n",
        "vg = VGG16(weights = 'imagenet')\n",
        "\n",
        "for layer in vg.layers[:-3]:\n",
        "  layer.trainable = False\n",
        "  model.add(layer)\n",
        "model.add(Dense(512, activation='relu'))\n",
        "model.add(Dense(512, activation='relu'))\n",
        "model.add(Dense(256))\n",
        "model.add(Dense(256))\n",
        "model.add(Dense(256))\n",
        "model.add(Dense(2, activation = 'softmax'))\n",
        "model.summary()\n",
        "model.compile(optimizer=Adam(), loss = 'categorical_crossentropy', metrics = ['accuracy'])"
      ],
      "execution_count": null,
      "outputs": [
        {
          "output_type": "stream",
          "text": [
            "Model: \"sequential_1\"\n",
            "_________________________________________________________________\n",
            "Layer (type)                 Output Shape              Param #   \n",
            "=================================================================\n",
            "block1_conv1 (Conv2D)        (None, 224, 224, 64)      1792      \n",
            "_________________________________________________________________\n",
            "block1_conv2 (Conv2D)        (None, 224, 224, 64)      36928     \n",
            "_________________________________________________________________\n",
            "block1_pool (MaxPooling2D)   (None, 112, 112, 64)      0         \n",
            "_________________________________________________________________\n",
            "block2_conv1 (Conv2D)        (None, 112, 112, 128)     73856     \n",
            "_________________________________________________________________\n",
            "block2_conv2 (Conv2D)        (None, 112, 112, 128)     147584    \n",
            "_________________________________________________________________\n",
            "block2_pool (MaxPooling2D)   (None, 56, 56, 128)       0         \n",
            "_________________________________________________________________\n",
            "block3_conv1 (Conv2D)        (None, 56, 56, 256)       295168    \n",
            "_________________________________________________________________\n",
            "block3_conv2 (Conv2D)        (None, 56, 56, 256)       590080    \n",
            "_________________________________________________________________\n",
            "block3_conv3 (Conv2D)        (None, 56, 56, 256)       590080    \n",
            "_________________________________________________________________\n",
            "block3_pool (MaxPooling2D)   (None, 28, 28, 256)       0         \n",
            "_________________________________________________________________\n",
            "block4_conv1 (Conv2D)        (None, 28, 28, 512)       1180160   \n",
            "_________________________________________________________________\n",
            "block4_conv2 (Conv2D)        (None, 28, 28, 512)       2359808   \n",
            "_________________________________________________________________\n",
            "block4_conv3 (Conv2D)        (None, 28, 28, 512)       2359808   \n",
            "_________________________________________________________________\n",
            "block4_pool (MaxPooling2D)   (None, 14, 14, 512)       0         \n",
            "_________________________________________________________________\n",
            "block5_conv1 (Conv2D)        (None, 14, 14, 512)       2359808   \n",
            "_________________________________________________________________\n",
            "block5_conv2 (Conv2D)        (None, 14, 14, 512)       2359808   \n",
            "_________________________________________________________________\n",
            "block5_conv3 (Conv2D)        (None, 14, 14, 512)       2359808   \n",
            "_________________________________________________________________\n",
            "block5_pool (MaxPooling2D)   (None, 7, 7, 512)         0         \n",
            "_________________________________________________________________\n",
            "flatten (Flatten)            (None, 25088)             0         \n",
            "_________________________________________________________________\n",
            "dense_6 (Dense)              (None, 512)               12845568  \n",
            "_________________________________________________________________\n",
            "dense_7 (Dense)              (None, 512)               262656    \n",
            "_________________________________________________________________\n",
            "dense_8 (Dense)              (None, 256)               131328    \n",
            "_________________________________________________________________\n",
            "dense_9 (Dense)              (None, 256)               65792     \n",
            "_________________________________________________________________\n",
            "dense_10 (Dense)             (None, 256)               65792     \n",
            "_________________________________________________________________\n",
            "dense_11 (Dense)             (None, 2)                 514       \n",
            "=================================================================\n",
            "Total params: 28,086,338\n",
            "Trainable params: 13,371,650\n",
            "Non-trainable params: 14,714,688\n",
            "_________________________________________________________________\n"
          ],
          "name": "stdout"
        }
      ]
    },
    {
      "cell_type": "code",
      "metadata": {
        "id": "8Ko2vsvJdBTP"
      },
      "source": [
        "my_callbacks = [\n",
        "    keras.callbacks.ModelCheckpoint(\n",
        "    '/content/mask_checkpoint_{val_accuracy:.3f}.keras',\n",
        "    monitor=\"val_accuracy\",\n",
        "    verbose=1,\n",
        "    save_best_only=True,\n",
        "    save_weights_only=False,\n",
        "    mode=\"max\",\n",
        "    save_freq=\"epoch\",\n",
        "    options=None,\n",
        "),\n",
        "]"
      ],
      "execution_count": null,
      "outputs": []
    },
    {
      "cell_type": "code",
      "metadata": {
        "id": "FpvIzF_cC4z1",
        "colab": {
          "base_uri": "https://localhost:8080/"
        },
        "outputId": "0eafec38-a305-431a-fd5b-d0f5558a89d0"
      },
      "source": [
        "model.fit(train_generator,  epochs=100, validation_data=validation_generator, callbacks=my_callbacks)"
      ],
      "execution_count": null,
      "outputs": [
        {
          "output_type": "stream",
          "text": [
            "Epoch 1/100\n",
            "24/24 [==============================] - 73s 2s/step - loss: 51.6663 - accuracy: 0.5917 - val_loss: 1.0640 - val_accuracy: 0.8527\n",
            "\n",
            "Epoch 00001: val_accuracy improved from -inf to 0.85270, saving model to /content/mask_checkpoint_0.853.keras\n",
            "Epoch 2/100\n",
            "24/24 [==============================] - 44s 2s/step - loss: 0.5371 - accuracy: 0.8618 - val_loss: 0.3043 - val_accuracy: 0.8878\n",
            "\n",
            "Epoch 00002: val_accuracy improved from 0.85270 to 0.88784, saving model to /content/mask_checkpoint_0.888.keras\n",
            "Epoch 3/100\n",
            "24/24 [==============================] - 44s 2s/step - loss: 0.2868 - accuracy: 0.8846 - val_loss: 0.2885 - val_accuracy: 0.8784\n",
            "\n",
            "Epoch 00003: val_accuracy did not improve from 0.88784\n",
            "Epoch 4/100\n",
            "24/24 [==============================] - 45s 2s/step - loss: 0.2597 - accuracy: 0.8926 - val_loss: 0.2783 - val_accuracy: 0.9027\n",
            "\n",
            "Epoch 00004: val_accuracy improved from 0.88784 to 0.90270, saving model to /content/mask_checkpoint_0.903.keras\n",
            "Epoch 5/100\n",
            "24/24 [==============================] - 44s 2s/step - loss: 0.2374 - accuracy: 0.9061 - val_loss: 0.2844 - val_accuracy: 0.8973\n",
            "\n",
            "Epoch 00005: val_accuracy did not improve from 0.90270\n",
            "Epoch 6/100\n",
            "24/24 [==============================] - 44s 2s/step - loss: 0.2538 - accuracy: 0.9116 - val_loss: 0.2697 - val_accuracy: 0.8932\n",
            "\n",
            "Epoch 00006: val_accuracy did not improve from 0.90270\n",
            "Epoch 7/100\n",
            "24/24 [==============================] - 45s 2s/step - loss: 0.2193 - accuracy: 0.9183 - val_loss: 0.2948 - val_accuracy: 0.9095\n",
            "\n",
            "Epoch 00007: val_accuracy improved from 0.90270 to 0.90946, saving model to /content/mask_checkpoint_0.909.keras\n",
            "Epoch 8/100\n",
            "24/24 [==============================] - 45s 2s/step - loss: 0.2014 - accuracy: 0.9181 - val_loss: 0.2886 - val_accuracy: 0.8905\n",
            "\n",
            "Epoch 00008: val_accuracy did not improve from 0.90946\n",
            "Epoch 9/100\n",
            "24/24 [==============================] - 45s 2s/step - loss: 0.2202 - accuracy: 0.9157 - val_loss: 0.3525 - val_accuracy: 0.8743\n",
            "\n",
            "Epoch 00009: val_accuracy did not improve from 0.90946\n",
            "Epoch 10/100\n",
            "24/24 [==============================] - 44s 2s/step - loss: 0.2059 - accuracy: 0.9135 - val_loss: 0.3015 - val_accuracy: 0.8959\n",
            "\n",
            "Epoch 00010: val_accuracy did not improve from 0.90946\n",
            "Epoch 11/100\n",
            "24/24 [==============================] - 44s 2s/step - loss: 0.2133 - accuracy: 0.9186 - val_loss: 0.2424 - val_accuracy: 0.9041\n",
            "\n",
            "Epoch 00011: val_accuracy did not improve from 0.90946\n",
            "Epoch 12/100\n",
            "24/24 [==============================] - 44s 2s/step - loss: 0.1799 - accuracy: 0.9265 - val_loss: 0.2829 - val_accuracy: 0.8905\n",
            "\n",
            "Epoch 00012: val_accuracy did not improve from 0.90946\n",
            "Epoch 13/100\n",
            "24/24 [==============================] - 45s 2s/step - loss: 0.1535 - accuracy: 0.9366 - val_loss: 0.3040 - val_accuracy: 0.8784\n",
            "\n",
            "Epoch 00013: val_accuracy did not improve from 0.90946\n",
            "Epoch 14/100\n",
            "24/24 [==============================] - 44s 2s/step - loss: 0.1804 - accuracy: 0.9308 - val_loss: 0.4002 - val_accuracy: 0.8986\n",
            "\n",
            "Epoch 00014: val_accuracy did not improve from 0.90946\n",
            "Epoch 15/100\n",
            "24/24 [==============================] - 44s 2s/step - loss: 0.1791 - accuracy: 0.9270 - val_loss: 0.3120 - val_accuracy: 0.9027\n",
            "\n",
            "Epoch 00015: val_accuracy did not improve from 0.90946\n",
            "Epoch 16/100\n",
            "24/24 [==============================] - 45s 2s/step - loss: 0.1340 - accuracy: 0.9532 - val_loss: 0.2725 - val_accuracy: 0.9135\n",
            "\n",
            "Epoch 00016: val_accuracy improved from 0.90946 to 0.91351, saving model to /content/mask_checkpoint_0.914.keras\n",
            "Epoch 17/100\n",
            "24/24 [==============================] - 45s 2s/step - loss: 0.1707 - accuracy: 0.9360 - val_loss: 0.2943 - val_accuracy: 0.9054\n",
            "\n",
            "Epoch 00017: val_accuracy did not improve from 0.91351\n",
            "Epoch 18/100\n",
            "24/24 [==============================] - 45s 2s/step - loss: 0.1660 - accuracy: 0.9334 - val_loss: 0.3112 - val_accuracy: 0.9068\n",
            "\n",
            "Epoch 00018: val_accuracy did not improve from 0.91351\n",
            "Epoch 19/100\n",
            "24/24 [==============================] - 45s 2s/step - loss: 0.1518 - accuracy: 0.9373 - val_loss: 0.3116 - val_accuracy: 0.9081\n",
            "\n",
            "Epoch 00019: val_accuracy did not improve from 0.91351\n",
            "Epoch 20/100\n",
            "24/24 [==============================] - 44s 2s/step - loss: 0.1444 - accuracy: 0.9438 - val_loss: 0.3174 - val_accuracy: 0.9108\n",
            "\n",
            "Epoch 00020: val_accuracy did not improve from 0.91351\n",
            "Epoch 21/100\n",
            "24/24 [==============================] - 44s 2s/step - loss: 0.1436 - accuracy: 0.9472 - val_loss: 0.3396 - val_accuracy: 0.9135\n",
            "\n",
            "Epoch 00021: val_accuracy did not improve from 0.91351\n",
            "Epoch 22/100\n",
            "24/24 [==============================] - 45s 2s/step - loss: 0.1362 - accuracy: 0.9513 - val_loss: 0.3342 - val_accuracy: 0.9068\n",
            "\n",
            "Epoch 00022: val_accuracy did not improve from 0.91351\n",
            "Epoch 23/100\n",
            "24/24 [==============================] - 45s 2s/step - loss: 0.1274 - accuracy: 0.9476 - val_loss: 0.3543 - val_accuracy: 0.9095\n",
            "\n",
            "Epoch 00023: val_accuracy did not improve from 0.91351\n",
            "Epoch 24/100\n",
            "24/24 [==============================] - 44s 2s/step - loss: 0.1482 - accuracy: 0.9466 - val_loss: 0.3534 - val_accuracy: 0.9041\n",
            "\n",
            "Epoch 00024: val_accuracy did not improve from 0.91351\n",
            "Epoch 25/100\n",
            "24/24 [==============================] - 44s 2s/step - loss: 0.1446 - accuracy: 0.9442 - val_loss: 0.3462 - val_accuracy: 0.9189\n",
            "\n",
            "Epoch 00025: val_accuracy improved from 0.91351 to 0.91892, saving model to /content/mask_checkpoint_0.919.keras\n",
            "Epoch 26/100\n",
            "24/24 [==============================] - 44s 2s/step - loss: 0.1344 - accuracy: 0.9465 - val_loss: 0.3570 - val_accuracy: 0.8878\n",
            "\n",
            "Epoch 00026: val_accuracy did not improve from 0.91892\n",
            "Epoch 27/100\n",
            "24/24 [==============================] - 45s 2s/step - loss: 0.1382 - accuracy: 0.9454 - val_loss: 0.4059 - val_accuracy: 0.8986\n",
            "\n",
            "Epoch 00027: val_accuracy did not improve from 0.91892\n",
            "Epoch 28/100\n",
            "24/24 [==============================] - 44s 2s/step - loss: 0.1375 - accuracy: 0.9487 - val_loss: 0.3562 - val_accuracy: 0.8959\n",
            "\n",
            "Epoch 00028: val_accuracy did not improve from 0.91892\n",
            "Epoch 29/100\n",
            "24/24 [==============================] - 44s 2s/step - loss: 0.1288 - accuracy: 0.9500 - val_loss: 0.4477 - val_accuracy: 0.8946\n",
            "\n",
            "Epoch 00029: val_accuracy did not improve from 0.91892\n",
            "Epoch 30/100\n",
            "24/24 [==============================] - 44s 2s/step - loss: 0.1185 - accuracy: 0.9464 - val_loss: 0.4494 - val_accuracy: 0.9162\n",
            "\n",
            "Epoch 00030: val_accuracy did not improve from 0.91892\n",
            "Epoch 31/100\n",
            "24/24 [==============================] - 44s 2s/step - loss: 0.1399 - accuracy: 0.9473 - val_loss: 0.3971 - val_accuracy: 0.8905\n",
            "\n",
            "Epoch 00031: val_accuracy did not improve from 0.91892\n",
            "Epoch 32/100\n",
            "24/24 [==============================] - 44s 2s/step - loss: 0.1319 - accuracy: 0.9422 - val_loss: 0.3606 - val_accuracy: 0.9054\n",
            "\n",
            "Epoch 00032: val_accuracy did not improve from 0.91892\n",
            "Epoch 33/100\n",
            "24/24 [==============================] - 44s 2s/step - loss: 0.1413 - accuracy: 0.9428 - val_loss: 0.4037 - val_accuracy: 0.9000\n",
            "\n",
            "Epoch 00033: val_accuracy did not improve from 0.91892\n",
            "Epoch 34/100\n",
            "24/24 [==============================] - 44s 2s/step - loss: 0.1233 - accuracy: 0.9517 - val_loss: 0.5052 - val_accuracy: 0.8703\n",
            "\n",
            "Epoch 00034: val_accuracy did not improve from 0.91892\n",
            "Epoch 35/100\n",
            "24/24 [==============================] - 44s 2s/step - loss: 0.1389 - accuracy: 0.9450 - val_loss: 0.4568 - val_accuracy: 0.8919\n",
            "\n",
            "Epoch 00035: val_accuracy did not improve from 0.91892\n",
            "Epoch 36/100\n",
            "24/24 [==============================] - 44s 2s/step - loss: 0.1154 - accuracy: 0.9605 - val_loss: 0.4121 - val_accuracy: 0.9108\n",
            "\n",
            "Epoch 00036: val_accuracy did not improve from 0.91892\n",
            "Epoch 37/100\n",
            "24/24 [==============================] - 44s 2s/step - loss: 0.1069 - accuracy: 0.9592 - val_loss: 0.4256 - val_accuracy: 0.9014\n",
            "\n",
            "Epoch 00037: val_accuracy did not improve from 0.91892\n",
            "Epoch 38/100\n",
            "24/24 [==============================] - 44s 2s/step - loss: 0.1042 - accuracy: 0.9594 - val_loss: 0.3977 - val_accuracy: 0.9081\n",
            "\n",
            "Epoch 00038: val_accuracy did not improve from 0.91892\n",
            "Epoch 39/100\n",
            "24/24 [==============================] - 44s 2s/step - loss: 0.1147 - accuracy: 0.9598 - val_loss: 0.4396 - val_accuracy: 0.9041\n",
            "\n",
            "Epoch 00039: val_accuracy did not improve from 0.91892\n",
            "Epoch 40/100\n",
            "24/24 [==============================] - 44s 2s/step - loss: 0.1106 - accuracy: 0.9619 - val_loss: 0.5231 - val_accuracy: 0.9081\n",
            "\n",
            "Epoch 00040: val_accuracy did not improve from 0.91892\n",
            "Epoch 41/100\n",
            "24/24 [==============================] - 43s 2s/step - loss: 0.1394 - accuracy: 0.9507 - val_loss: 0.4431 - val_accuracy: 0.9041\n",
            "\n",
            "Epoch 00041: val_accuracy did not improve from 0.91892\n",
            "Epoch 42/100\n",
            "24/24 [==============================] - 43s 2s/step - loss: 0.0887 - accuracy: 0.9632 - val_loss: 0.4742 - val_accuracy: 0.9149\n",
            "\n",
            "Epoch 00042: val_accuracy did not improve from 0.91892\n",
            "Epoch 43/100\n",
            "24/24 [==============================] - 44s 2s/step - loss: 0.1021 - accuracy: 0.9595 - val_loss: 0.4007 - val_accuracy: 0.8986\n",
            "\n",
            "Epoch 00043: val_accuracy did not improve from 0.91892\n",
            "Epoch 44/100\n",
            "24/24 [==============================] - 44s 2s/step - loss: 0.1304 - accuracy: 0.9558 - val_loss: 0.3737 - val_accuracy: 0.9135\n",
            "\n",
            "Epoch 00044: val_accuracy did not improve from 0.91892\n",
            "Epoch 45/100\n",
            "24/24 [==============================] - 44s 2s/step - loss: 0.0980 - accuracy: 0.9619 - val_loss: 0.3979 - val_accuracy: 0.8932\n",
            "\n",
            "Epoch 00045: val_accuracy did not improve from 0.91892\n",
            "Epoch 46/100\n",
            "24/24 [==============================] - 44s 2s/step - loss: 0.1099 - accuracy: 0.9585 - val_loss: 0.4476 - val_accuracy: 0.9122\n",
            "\n",
            "Epoch 00046: val_accuracy did not improve from 0.91892\n",
            "Epoch 47/100\n",
            "24/24 [==============================] - 44s 2s/step - loss: 0.1056 - accuracy: 0.9548 - val_loss: 0.4479 - val_accuracy: 0.9122\n",
            "\n",
            "Epoch 00047: val_accuracy did not improve from 0.91892\n",
            "Epoch 48/100\n",
            "24/24 [==============================] - 44s 2s/step - loss: 0.1064 - accuracy: 0.9593 - val_loss: 0.4291 - val_accuracy: 0.8865\n",
            "\n",
            "Epoch 00048: val_accuracy did not improve from 0.91892\n",
            "Epoch 49/100\n",
            "24/24 [==============================] - 43s 2s/step - loss: 0.1068 - accuracy: 0.9597 - val_loss: 0.4047 - val_accuracy: 0.9081\n",
            "\n",
            "Epoch 00049: val_accuracy did not improve from 0.91892\n",
            "Epoch 50/100\n",
            "24/24 [==============================] - 44s 2s/step - loss: 0.1036 - accuracy: 0.9593 - val_loss: 0.4794 - val_accuracy: 0.9257\n",
            "\n",
            "Epoch 00050: val_accuracy improved from 0.91892 to 0.92568, saving model to /content/mask_checkpoint_0.926.keras\n",
            "Epoch 51/100\n",
            "24/24 [==============================] - 44s 2s/step - loss: 0.1246 - accuracy: 0.9601 - val_loss: 0.4388 - val_accuracy: 0.9014\n",
            "\n",
            "Epoch 00051: val_accuracy did not improve from 0.92568\n",
            "Epoch 52/100\n",
            "24/24 [==============================] - 43s 2s/step - loss: 0.1148 - accuracy: 0.9562 - val_loss: 0.3944 - val_accuracy: 0.9230\n",
            "\n",
            "Epoch 00052: val_accuracy did not improve from 0.92568\n",
            "Epoch 53/100\n",
            "24/24 [==============================] - 44s 2s/step - loss: 0.1087 - accuracy: 0.9611 - val_loss: 0.5208 - val_accuracy: 0.8919\n",
            "\n",
            "Epoch 00053: val_accuracy did not improve from 0.92568\n",
            "Epoch 54/100\n",
            "24/24 [==============================] - 44s 2s/step - loss: 0.1319 - accuracy: 0.9539 - val_loss: 0.4009 - val_accuracy: 0.9189\n",
            "\n",
            "Epoch 00054: val_accuracy did not improve from 0.92568\n",
            "Epoch 55/100\n",
            "24/24 [==============================] - 43s 2s/step - loss: 0.0914 - accuracy: 0.9620 - val_loss: 0.5401 - val_accuracy: 0.8973\n",
            "\n",
            "Epoch 00055: val_accuracy did not improve from 0.92568\n",
            "Epoch 56/100\n",
            "24/24 [==============================] - 44s 2s/step - loss: 0.1242 - accuracy: 0.9563 - val_loss: 0.3913 - val_accuracy: 0.8973\n",
            "\n",
            "Epoch 00056: val_accuracy did not improve from 0.92568\n",
            "Epoch 57/100\n",
            "24/24 [==============================] - 44s 2s/step - loss: 0.1131 - accuracy: 0.9566 - val_loss: 0.5306 - val_accuracy: 0.9135\n",
            "\n",
            "Epoch 00057: val_accuracy did not improve from 0.92568\n",
            "Epoch 58/100\n",
            "24/24 [==============================] - 44s 2s/step - loss: 0.1534 - accuracy: 0.9459 - val_loss: 0.5284 - val_accuracy: 0.9257\n",
            "\n",
            "Epoch 00058: val_accuracy did not improve from 0.92568\n",
            "Epoch 59/100\n",
            "24/24 [==============================] - 44s 2s/step - loss: 0.1607 - accuracy: 0.9456 - val_loss: 0.4498 - val_accuracy: 0.9027\n",
            "\n",
            "Epoch 00059: val_accuracy did not improve from 0.92568\n",
            "Epoch 60/100\n",
            "24/24 [==============================] - 44s 2s/step - loss: 0.0948 - accuracy: 0.9634 - val_loss: 0.5186 - val_accuracy: 0.9027\n",
            "\n",
            "Epoch 00060: val_accuracy did not improve from 0.92568\n",
            "Epoch 61/100\n",
            "24/24 [==============================] - 44s 2s/step - loss: 0.0989 - accuracy: 0.9640 - val_loss: 0.4873 - val_accuracy: 0.9108\n",
            "\n",
            "Epoch 00061: val_accuracy did not improve from 0.92568\n",
            "Epoch 62/100\n",
            "24/24 [==============================] - 44s 2s/step - loss: 0.1107 - accuracy: 0.9569 - val_loss: 0.3970 - val_accuracy: 0.9081\n",
            "\n",
            "Epoch 00062: val_accuracy did not improve from 0.92568\n",
            "Epoch 63/100\n",
            "24/24 [==============================] - 44s 2s/step - loss: 0.0981 - accuracy: 0.9627 - val_loss: 0.4601 - val_accuracy: 0.8986\n",
            "\n",
            "Epoch 00063: val_accuracy did not improve from 0.92568\n",
            "Epoch 64/100\n",
            "24/24 [==============================] - 44s 2s/step - loss: 0.1051 - accuracy: 0.9572 - val_loss: 0.4423 - val_accuracy: 0.9014\n",
            "\n",
            "Epoch 00064: val_accuracy did not improve from 0.92568\n",
            "Epoch 65/100\n",
            "24/24 [==============================] - 44s 2s/step - loss: 0.1091 - accuracy: 0.9539 - val_loss: 0.4990 - val_accuracy: 0.9149\n",
            "\n",
            "Epoch 00065: val_accuracy did not improve from 0.92568\n",
            "Epoch 66/100\n",
            "24/24 [==============================] - 44s 2s/step - loss: 0.0957 - accuracy: 0.9605 - val_loss: 0.5755 - val_accuracy: 0.9068\n",
            "\n",
            "Epoch 00066: val_accuracy did not improve from 0.92568\n",
            "Epoch 67/100\n",
            "24/24 [==============================] - 43s 2s/step - loss: 0.1101 - accuracy: 0.9594 - val_loss: 0.4653 - val_accuracy: 0.9095\n",
            "\n",
            "Epoch 00067: val_accuracy did not improve from 0.92568\n",
            "Epoch 68/100\n",
            "24/24 [==============================] - 44s 2s/step - loss: 0.0935 - accuracy: 0.9659 - val_loss: 0.4871 - val_accuracy: 0.9000\n",
            "\n",
            "Epoch 00068: val_accuracy did not improve from 0.92568\n",
            "Epoch 69/100\n",
            "24/24 [==============================] - 44s 2s/step - loss: 0.0915 - accuracy: 0.9666 - val_loss: 0.4182 - val_accuracy: 0.9027\n",
            "\n",
            "Epoch 00069: val_accuracy did not improve from 0.92568\n",
            "Epoch 70/100\n",
            "24/24 [==============================] - 44s 2s/step - loss: 0.0901 - accuracy: 0.9607 - val_loss: 0.5572 - val_accuracy: 0.9135\n",
            "\n",
            "Epoch 00070: val_accuracy did not improve from 0.92568\n",
            "Epoch 71/100\n",
            "24/24 [==============================] - 44s 2s/step - loss: 0.0771 - accuracy: 0.9719 - val_loss: 0.4936 - val_accuracy: 0.9095\n",
            "\n",
            "Epoch 00071: val_accuracy did not improve from 0.92568\n",
            "Epoch 72/100\n",
            "24/24 [==============================] - 44s 2s/step - loss: 0.0812 - accuracy: 0.9733 - val_loss: 0.5642 - val_accuracy: 0.9095\n",
            "\n",
            "Epoch 00072: val_accuracy did not improve from 0.92568\n",
            "Epoch 73/100\n",
            "24/24 [==============================] - 44s 2s/step - loss: 0.0917 - accuracy: 0.9643 - val_loss: 0.4270 - val_accuracy: 0.9068\n",
            "\n",
            "Epoch 00073: val_accuracy did not improve from 0.92568\n",
            "Epoch 74/100\n",
            "24/24 [==============================] - 43s 2s/step - loss: 0.1064 - accuracy: 0.9617 - val_loss: 0.5025 - val_accuracy: 0.8905\n",
            "\n",
            "Epoch 00074: val_accuracy did not improve from 0.92568\n",
            "Epoch 75/100\n",
            "24/24 [==============================] - 43s 2s/step - loss: 0.0896 - accuracy: 0.9666 - val_loss: 0.4920 - val_accuracy: 0.8986\n",
            "\n",
            "Epoch 00075: val_accuracy did not improve from 0.92568\n",
            "Epoch 76/100\n",
            "24/24 [==============================] - 43s 2s/step - loss: 0.1109 - accuracy: 0.9617 - val_loss: 0.5196 - val_accuracy: 0.9068\n",
            "\n",
            "Epoch 00076: val_accuracy did not improve from 0.92568\n",
            "Epoch 77/100\n",
            "24/24 [==============================] - 44s 2s/step - loss: 0.0792 - accuracy: 0.9698 - val_loss: 0.5907 - val_accuracy: 0.9108\n",
            "\n",
            "Epoch 00077: val_accuracy did not improve from 0.92568\n",
            "Epoch 78/100\n",
            "24/24 [==============================] - 44s 2s/step - loss: 0.0658 - accuracy: 0.9699 - val_loss: 0.5643 - val_accuracy: 0.9081\n",
            "\n",
            "Epoch 00078: val_accuracy did not improve from 0.92568\n",
            "Epoch 79/100\n",
            "24/24 [==============================] - 44s 2s/step - loss: 0.0831 - accuracy: 0.9741 - val_loss: 0.4611 - val_accuracy: 0.9081\n",
            "\n",
            "Epoch 00079: val_accuracy did not improve from 0.92568\n",
            "Epoch 80/100\n",
            "24/24 [==============================] - 44s 2s/step - loss: 0.0942 - accuracy: 0.9663 - val_loss: 0.5047 - val_accuracy: 0.9054\n",
            "\n",
            "Epoch 00080: val_accuracy did not improve from 0.92568\n",
            "Epoch 81/100\n",
            "24/24 [==============================] - 44s 2s/step - loss: 0.0739 - accuracy: 0.9758 - val_loss: 0.4483 - val_accuracy: 0.8986\n",
            "\n",
            "Epoch 00081: val_accuracy did not improve from 0.92568\n",
            "Epoch 82/100\n",
            "24/24 [==============================] - 43s 2s/step - loss: 0.0861 - accuracy: 0.9698 - val_loss: 0.4234 - val_accuracy: 0.9027\n",
            "\n",
            "Epoch 00082: val_accuracy did not improve from 0.92568\n",
            "Epoch 83/100\n",
            "24/24 [==============================] - 44s 2s/step - loss: 0.0940 - accuracy: 0.9692 - val_loss: 0.3755 - val_accuracy: 0.8959\n",
            "\n",
            "Epoch 00083: val_accuracy did not improve from 0.92568\n",
            "Epoch 84/100\n",
            "24/24 [==============================] - 43s 2s/step - loss: 0.0695 - accuracy: 0.9732 - val_loss: 0.5162 - val_accuracy: 0.9149\n",
            "\n",
            "Epoch 00084: val_accuracy did not improve from 0.92568\n",
            "Epoch 85/100\n",
            "24/24 [==============================] - 43s 2s/step - loss: 0.0585 - accuracy: 0.9806 - val_loss: 0.5261 - val_accuracy: 0.9095\n",
            "\n",
            "Epoch 00085: val_accuracy did not improve from 0.92568\n",
            "Epoch 86/100\n",
            "24/24 [==============================] - 43s 2s/step - loss: 0.0690 - accuracy: 0.9712 - val_loss: 0.4966 - val_accuracy: 0.9027\n",
            "\n",
            "Epoch 00086: val_accuracy did not improve from 0.92568\n",
            "Epoch 87/100\n",
            "24/24 [==============================] - 44s 2s/step - loss: 0.0826 - accuracy: 0.9750 - val_loss: 0.5015 - val_accuracy: 0.9108\n",
            "\n",
            "Epoch 00087: val_accuracy did not improve from 0.92568\n",
            "Epoch 88/100\n",
            "24/24 [==============================] - 43s 2s/step - loss: 0.0781 - accuracy: 0.9735 - val_loss: 0.5029 - val_accuracy: 0.9135\n",
            "\n",
            "Epoch 00088: val_accuracy did not improve from 0.92568\n",
            "Epoch 89/100\n",
            "24/24 [==============================] - 43s 2s/step - loss: 0.0854 - accuracy: 0.9648 - val_loss: 0.5598 - val_accuracy: 0.9014\n",
            "\n",
            "Epoch 00089: val_accuracy did not improve from 0.92568\n",
            "Epoch 90/100\n",
            "24/24 [==============================] - 44s 2s/step - loss: 0.0975 - accuracy: 0.9658 - val_loss: 0.6525 - val_accuracy: 0.9122\n",
            "\n",
            "Epoch 00090: val_accuracy did not improve from 0.92568\n",
            "Epoch 91/100\n",
            "24/24 [==============================] - 44s 2s/step - loss: 0.1093 - accuracy: 0.9621 - val_loss: 0.4415 - val_accuracy: 0.9027\n",
            "\n",
            "Epoch 00091: val_accuracy did not improve from 0.92568\n",
            "Epoch 92/100\n",
            "24/24 [==============================] - 43s 2s/step - loss: 0.0814 - accuracy: 0.9712 - val_loss: 0.5065 - val_accuracy: 0.9014\n",
            "\n",
            "Epoch 00092: val_accuracy did not improve from 0.92568\n",
            "Epoch 93/100\n",
            "24/24 [==============================] - 43s 2s/step - loss: 0.0699 - accuracy: 0.9744 - val_loss: 0.5178 - val_accuracy: 0.9054\n",
            "\n",
            "Epoch 00093: val_accuracy did not improve from 0.92568\n",
            "Epoch 94/100\n",
            "24/24 [==============================] - 43s 2s/step - loss: 0.0809 - accuracy: 0.9705 - val_loss: 0.5672 - val_accuracy: 0.9135\n",
            "\n",
            "Epoch 00094: val_accuracy did not improve from 0.92568\n",
            "Epoch 95/100\n",
            "24/24 [==============================] - 43s 2s/step - loss: 0.0732 - accuracy: 0.9711 - val_loss: 0.5688 - val_accuracy: 0.9176\n",
            "\n",
            "Epoch 00095: val_accuracy did not improve from 0.92568\n",
            "Epoch 96/100\n",
            "24/24 [==============================] - 44s 2s/step - loss: 0.0708 - accuracy: 0.9737 - val_loss: 0.5217 - val_accuracy: 0.9068\n",
            "\n",
            "Epoch 00096: val_accuracy did not improve from 0.92568\n",
            "Epoch 97/100\n",
            "24/24 [==============================] - 43s 2s/step - loss: 0.0618 - accuracy: 0.9745 - val_loss: 0.4567 - val_accuracy: 0.9081\n",
            "\n",
            "Epoch 00097: val_accuracy did not improve from 0.92568\n",
            "Epoch 98/100\n",
            "24/24 [==============================] - 43s 2s/step - loss: 0.0692 - accuracy: 0.9758 - val_loss: 0.5220 - val_accuracy: 0.9054\n",
            "\n",
            "Epoch 00098: val_accuracy did not improve from 0.92568\n",
            "Epoch 99/100\n",
            "24/24 [==============================] - 43s 2s/step - loss: 0.0541 - accuracy: 0.9795 - val_loss: 0.5113 - val_accuracy: 0.9081\n",
            "\n",
            "Epoch 00099: val_accuracy did not improve from 0.92568\n",
            "Epoch 100/100\n",
            "24/24 [==============================] - 44s 2s/step - loss: 0.0619 - accuracy: 0.9749 - val_loss: 0.5316 - val_accuracy: 0.9027\n",
            "\n",
            "Epoch 00100: val_accuracy did not improve from 0.92568\n"
          ],
          "name": "stdout"
        },
        {
          "output_type": "execute_result",
          "data": {
            "text/plain": [
              "<tensorflow.python.keras.callbacks.History at 0x7f5d2e056590>"
            ]
          },
          "metadata": {
            "tags": []
          },
          "execution_count": 22
        }
      ]
    },
    {
      "cell_type": "code",
      "metadata": {
        "id": "-ClZqOeLbb7l"
      },
      "source": [
        "model.save('mask.keras')"
      ],
      "execution_count": null,
      "outputs": []
    },
    {
      "cell_type": "code",
      "metadata": {
        "colab": {
          "base_uri": "https://localhost:8080/",
          "height": 35
        },
        "id": "Vcsb0qW2yvfw",
        "outputId": "5feea931-2060-4721-c783-d8a6de9a0cfa"
      },
      "source": [
        "shutil.copy('/content/mask_checkpoint_0.926.keras', '/content/drive/My Drive/my_models/mask_given.keras')"
      ],
      "execution_count": null,
      "outputs": [
        {
          "output_type": "execute_result",
          "data": {
            "application/vnd.google.colaboratory.intrinsic+json": {
              "type": "string"
            },
            "text/plain": [
              "'/content/drive/My Drive/my_models/mask_given.keras'"
            ]
          },
          "metadata": {
            "tags": []
          },
          "execution_count": 24
        }
      ]
    },
    {
      "cell_type": "markdown",
      "metadata": {
        "id": "-W9jJNvNjvc3"
      },
      "source": [
        "# Testing"
      ]
    },
    {
      "cell_type": "code",
      "metadata": {
        "id": "ICXTaruDjs1P"
      },
      "source": [
        "model = keras.models.load_model('mask.keras')"
      ],
      "execution_count": null,
      "outputs": []
    },
    {
      "cell_type": "code",
      "metadata": {
        "id": "oNW8K7aVkMuT",
        "colab": {
          "base_uri": "https://localhost:8080/"
        },
        "outputId": "75965ddd-d94c-47ad-9b21-6db484372a6f"
      },
      "source": [
        "!wget -N https://raw.githubusercontent.com/opencv/opencv/master/samples/dnn/face_detector/deploy.prototxt\n",
        "!wget -N https://raw.githubusercontent.com/opencv/opencv_3rdparty/dnn_samples_face_detector_20170830/res10_300x300_ssd_iter_140000.caffemodel"
      ],
      "execution_count": null,
      "outputs": [
        {
          "output_type": "stream",
          "name": "stdout",
          "text": [
            "--2022-01-16 17:00:30--  https://raw.githubusercontent.com/opencv/opencv/master/samples/dnn/face_detector/deploy.prototxt\n",
            "Resolving raw.githubusercontent.com (raw.githubusercontent.com)... 185.199.108.133, 185.199.109.133, 185.199.110.133, ...\n",
            "Connecting to raw.githubusercontent.com (raw.githubusercontent.com)|185.199.108.133|:443... connected.\n",
            "HTTP request sent, awaiting response... 200 OK\n",
            "Length: 28104 (27K) [text/plain]\n",
            "Saving to: ‘deploy.prototxt’\n",
            "\n",
            "\rdeploy.prototxt       0%[                    ]       0  --.-KB/s               \rdeploy.prototxt     100%[===================>]  27.45K  --.-KB/s    in 0.002s  \n",
            "\n",
            "Last-modified header missing -- time-stamps turned off.\n",
            "2022-01-16 17:00:30 (10.9 MB/s) - ‘deploy.prototxt’ saved [28104/28104]\n",
            "\n",
            "--2022-01-16 17:00:30--  https://raw.githubusercontent.com/opencv/opencv_3rdparty/dnn_samples_face_detector_20170830/res10_300x300_ssd_iter_140000.caffemodel\n",
            "Resolving raw.githubusercontent.com (raw.githubusercontent.com)... 185.199.108.133, 185.199.109.133, 185.199.110.133, ...\n",
            "Connecting to raw.githubusercontent.com (raw.githubusercontent.com)|185.199.108.133|:443... connected.\n",
            "HTTP request sent, awaiting response... 200 OK\n",
            "Length: 10666211 (10M) [application/octet-stream]\n",
            "Saving to: ‘res10_300x300_ssd_iter_140000.caffemodel’\n",
            "\n",
            "res10_300x300_ssd_i 100%[===================>]  10.17M  --.-KB/s    in 0.1s    \n",
            "\n",
            "Last-modified header missing -- time-stamps turned off.\n",
            "2022-01-16 17:00:30 (95.1 MB/s) - ‘res10_300x300_ssd_iter_140000.caffemodel’ saved [10666211/10666211]\n",
            "\n"
          ]
        }
      ]
    },
    {
      "cell_type": "code",
      "metadata": {
        "id": "Yai2bM2ikSHd"
      },
      "source": [
        "prototxt_path = 'deploy.prototxt'\n",
        "model_path = 'res10_300x300_ssd_iter_140000.caffemodel'\n",
        "net = cv2.dnn.readNetFromCaffe(prototxt_path, model_path)\n",
        "def get_face(image, threshold=.2):\n",
        "  (h, w) = image.shape[:2]\n",
        "\n",
        "  blob = cv2.dnn.blobFromImage(cv2.resize(image, (300, 300)), 1.0, (300, 300), (104.0, 177.0, 123.0))\n",
        "  net.setInput(blob)\n",
        "  detections = net.forward()\n",
        "\n",
        "  faces = np.zeros((detections.shape[2], 4))\n",
        "  for i in range(0, detections.shape[2]):\n",
        "    # extract the confidence (i.e., probability) associated with the prediction\n",
        "    confidence = detections[0, 0, i, 2]\n",
        "\n",
        "    if confidence > threshold:\n",
        "      box = detections[0, 0, i, 3:7] * np.array([w, h, w, h])\n",
        "      faces[i] = box\n",
        "  return faces\n"
      ],
      "execution_count": null,
      "outputs": []
    },
    {
      "cell_type": "code",
      "metadata": {
        "id": "FB0VfLSd0a-f"
      },
      "source": [
        "img_name = 'masks5.jpg'"
      ],
      "execution_count": null,
      "outputs": []
    },
    {
      "cell_type": "code",
      "metadata": {
        "id": "llpkznS_b1Ay",
        "colab": {
          "base_uri": "https://localhost:8080/"
        },
        "outputId": "fb25d0b2-6901-41b0-98da-24feb9545908"
      },
      "source": [
        "# First one takes some time\n",
        "image = cv2.imread(img_name)\n",
        "write_img = np.array(image)\n",
        "faces = get_face(image)\n",
        "faces = [x for x in faces if np.sum(x) != 0]\n",
        "for face in faces:\n",
        "  face = face.astype(int)\n",
        "  new_img = image[face[1]:face[3], face[0]:face[2]]\n",
        "  new_img = cv2.resize(new_img, (224, 224))\n",
        "#  new_img = cv2.cvtColor(new_img, cv2.COLOR_BGR2RGB)\n",
        "  new_img = np.reshape(new_img, (1, 224, 224, 3))\n",
        "  pred = model.predict(new_img)[0]\n",
        "  if np.argmax(pred) == 0:\n",
        "    text = 'mask'\n",
        "    cv2.putText(write_img, text, (face[0], face[1]), cv2.FONT_HERSHEY_SIMPLEX, .6, (0, 255, 0), 2)\n",
        "    cv2.rectangle(write_img, (face[0], face[1]), (face[2], face[3]), (0, 255, 0), 2)\n",
        "\n",
        "  else:\n",
        "    text = 'no_mask'\n",
        "    cv2.putText(write_img, text, (face[0], face[1]), cv2.FONT_HERSHEY_SIMPLEX, .6, (0, 0, 255), 2)\n",
        "    cv2.rectangle(write_img, (face[0], face[1]), (face[2], face[3]), (0, 0, 255), 2)\n",
        "cv2.imwrite('outputs/output.png', write_img)"
      ],
      "execution_count": null,
      "outputs": [
        {
          "output_type": "execute_result",
          "data": {
            "text/plain": [
              "True"
            ]
          },
          "metadata": {},
          "execution_count": 37
        }
      ]
    }
  ]
}